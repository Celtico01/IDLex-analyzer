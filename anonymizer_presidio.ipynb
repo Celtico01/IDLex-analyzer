{
 "cells": [
  {
   "cell_type": "markdown",
   "id": "4acd772f",
   "metadata": {},
   "source": [
    "libs"
   ]
  },
  {
   "cell_type": "code",
   "execution_count": 17,
   "id": "75f42fde",
   "metadata": {},
   "outputs": [],
   "source": [
    "from presidio_analyzer import AnalyzerEngine\n",
    "from presidio_anonymizer import AnonymizerEngine\n",
    "from presidio_analyzer.nlp_engine import NlpEngineProvider"
   ]
  },
  {
   "cell_type": "markdown",
   "id": "d84460dc",
   "metadata": {},
   "source": [
    "ANALYZER"
   ]
  },
  {
   "cell_type": "code",
   "execution_count": 18,
   "id": "c5ba383d",
   "metadata": {},
   "outputs": [],
   "source": [
    "config = {\"nlp_engine_name\": \"spacy\",\n",
    "          \"models\": [{\"lang_code\": \"pt\", \"model_name\": \"pt_core_news_lg\"}]}"
   ]
  },
  {
   "cell_type": "code",
   "execution_count": 20,
   "id": "c1d4b5ef",
   "metadata": {},
   "outputs": [],
   "source": [
    "engine_pt = NlpEngineProvider(nlp_configuration=config)\n",
    "nlp_engine_pt = engine_pt.create_engine()"
   ]
  },
  {
   "cell_type": "code",
   "execution_count": 21,
   "id": "7c2801ef",
   "metadata": {},
   "outputs": [],
   "source": [
    "analyzer = AnalyzerEngine(nlp_engine=nlp_engine_pt, supported_languages=[\"pt\"])"
   ]
  },
  {
   "cell_type": "code",
   "execution_count": 23,
   "id": "17428dd1",
   "metadata": {},
   "outputs": [
    {
     "name": "stdout",
     "output_type": "stream",
     "text": [
      "▶️ Entidades suportadas: ['IBAN_CODE', 'EMAIL', 'ID', 'ORGANIZATION', 'PHONE_NUMBER', 'DATE_TIME', 'EMAIL_ADDRESS', 'PERSON', 'AGE', 'MEDICAL_LICENSE', 'URL', 'CRYPTO', 'LOCATION', 'IP_ADDRESS', 'NRP']\n"
     ]
    }
   ],
   "source": [
    "# TESTES\n",
    "print(\"▶️ Entidades suportadas:\", analyzer.get_supported_entities())"
   ]
  },
  {
   "cell_type": "code",
   "execution_count": null,
   "id": "052aba5f",
   "metadata": {},
   "outputs": [],
   "source": [
    "text = ''\n",
    "results = analyzer.analyze(text=text,\n",
    "                           language='pt')"
   ]
  },
  {
   "cell_type": "code",
   "execution_count": 35,
   "id": "41bec1ab",
   "metadata": {},
   "outputs": [
    {
     "data": {
      "text/plain": [
       "[type: PERSON, start: 11, end: 15, score: 0.85,\n",
       " type: LOCATION, start: 55, end: 62, score: 0.85,\n",
       " type: PHONE_NUMBER, start: 31, end: 44, score: 0.4]"
      ]
     },
     "execution_count": 35,
     "metadata": {},
     "output_type": "execute_result"
    }
   ],
   "source": [
    "results"
   ]
  },
  {
   "cell_type": "markdown",
   "id": "839f2283",
   "metadata": {},
   "source": [
    "ANONYMIZER"
   ]
  },
  {
   "cell_type": "code",
   "execution_count": 36,
   "id": "2da744b8",
   "metadata": {},
   "outputs": [],
   "source": [
    "anonymizer = AnonymizerEngine()\n",
    "anonymized_text = anonymizer.anonymize(text=text, analyzer_results=results)"
   ]
  },
  {
   "cell_type": "code",
   "execution_count": 37,
   "id": "56d41dc0",
   "metadata": {},
   "outputs": [
    {
     "data": {
      "text/plain": [
       "'Meu nome é <PERSON> e meu número é <PHONE_NUMBER> e moro em <LOCATION>'"
      ]
     },
     "execution_count": 37,
     "metadata": {},
     "output_type": "execute_result"
    }
   ],
   "source": [
    "anonymized_text.text"
   ]
  }
 ],
 "metadata": {
  "kernelspec": {
   "display_name": ".venv",
   "language": "python",
   "name": "python3"
  },
  "language_info": {
   "codemirror_mode": {
    "name": "ipython",
    "version": 3
   },
   "file_extension": ".py",
   "mimetype": "text/x-python",
   "name": "python",
   "nbconvert_exporter": "python",
   "pygments_lexer": "ipython3",
   "version": "3.12.7"
  }
 },
 "nbformat": 4,
 "nbformat_minor": 5
}
